{
 "cells": [
  {
   "cell_type": "code",
   "execution_count": 1,
   "id": "b4863e2d",
   "metadata": {},
   "outputs": [],
   "source": [
    "\n",
    "# Step 1: Import Libraries\n",
    "import pandas as pd\n",
    "import numpy as np"
   ]
  },
  {
   "cell_type": "code",
   "execution_count": 2,
   "id": "0eb7b739",
   "metadata": {},
   "outputs": [],
   "source": [
    "# Step 2: Load Dataset\n",
    "# Make sure Data.csv is in the same folder as this notebook\n",
    "data = pd.read_csv(\"Data.csv\")"
   ]
  },
  {
   "cell_type": "code",
   "execution_count": 3,
   "id": "3e4de113",
   "metadata": {},
   "outputs": [
    {
     "name": "stdout",
     "output_type": "stream",
     "text": [
      "First 5 rows of the dataset:\n"
     ]
    },
    {
     "data": {
      "text/html": [
       "<div>\n",
       "<style scoped>\n",
       "    .dataframe tbody tr th:only-of-type {\n",
       "        vertical-align: middle;\n",
       "    }\n",
       "\n",
       "    .dataframe tbody tr th {\n",
       "        vertical-align: top;\n",
       "    }\n",
       "\n",
       "    .dataframe thead th {\n",
       "        text-align: right;\n",
       "    }\n",
       "</style>\n",
       "<table border=\"1\" class=\"dataframe\">\n",
       "  <thead>\n",
       "    <tr style=\"text-align: right;\">\n",
       "      <th></th>\n",
       "      <th>ID</th>\n",
       "      <th>Title</th>\n",
       "      <th>Description</th>\n",
       "      <th>Category_title</th>\n",
       "      <th>Geometry_Coordinates_1</th>\n",
       "      <th>Geometry_Coordinates_2</th>\n",
       "      <th>Geometry_Coordinates_3</th>\n",
       "      <th>Geometry_Coordinates_4</th>\n",
       "      <th>Date</th>\n",
       "      <th>Time</th>\n",
       "    </tr>\n",
       "  </thead>\n",
       "  <tbody>\n",
       "    <tr>\n",
       "      <th>0</th>\n",
       "      <td>EONET_14198</td>\n",
       "      <td>HOPE Wildfire  Stevens  Washington</td>\n",
       "      <td>15 Miles N from KETTLE FALLS  WA</td>\n",
       "      <td>Wildfires</td>\n",
       "      <td>-117.982361  48.821248</td>\n",
       "      <td>NaN</td>\n",
       "      <td>NaN</td>\n",
       "      <td>NaN</td>\n",
       "      <td>2025-07-08</td>\n",
       "      <td>16:38:00</td>\n",
       "    </tr>\n",
       "    <tr>\n",
       "      <th>1</th>\n",
       "      <td>EONET_14200</td>\n",
       "      <td>Hot Canyon Wildfire  Elko  Nevada</td>\n",
       "      <td>10 Miles NW from Montello  NV</td>\n",
       "      <td>Wildfires</td>\n",
       "      <td>-114.336333  41.368</td>\n",
       "      <td>NaN</td>\n",
       "      <td>NaN</td>\n",
       "      <td>NaN</td>\n",
       "      <td>2025-07-08</td>\n",
       "      <td>16:18:00</td>\n",
       "    </tr>\n",
       "    <tr>\n",
       "      <th>2</th>\n",
       "      <td>EONET_14215</td>\n",
       "      <td>13 MILE FIRE Wildfire  Palm Beach  Florida</td>\n",
       "      <td>21 Miles S from BELLE GLADE  FL</td>\n",
       "      <td>Wildfires</td>\n",
       "      <td>-80.79  26.3833333</td>\n",
       "      <td>NaN</td>\n",
       "      <td>NaN</td>\n",
       "      <td>NaN</td>\n",
       "      <td>2025-07-08</td>\n",
       "      <td>15:34:00</td>\n",
       "    </tr>\n",
       "    <tr>\n",
       "      <th>3</th>\n",
       "      <td>EONET_14209</td>\n",
       "      <td>UDC Fire Wildfire  Jefferson  Oregon</td>\n",
       "      <td>1 Miles SW from warm springs  OR</td>\n",
       "      <td>Wildfires</td>\n",
       "      <td>-121.288889  44.803444</td>\n",
       "      <td>NaN</td>\n",
       "      <td>NaN</td>\n",
       "      <td>NaN</td>\n",
       "      <td>2025-07-07</td>\n",
       "      <td>22:59:00</td>\n",
       "    </tr>\n",
       "    <tr>\n",
       "      <th>4</th>\n",
       "      <td>EONET_14199</td>\n",
       "      <td>0482 SUNRISE Wildfire  Crook  Oregon</td>\n",
       "      <td>8 Miles S from Paulina  OR</td>\n",
       "      <td>Wildfires</td>\n",
       "      <td>-120.038167  44.019167</td>\n",
       "      <td>NaN</td>\n",
       "      <td>NaN</td>\n",
       "      <td>NaN</td>\n",
       "      <td>2025-07-07</td>\n",
       "      <td>14:45:00</td>\n",
       "    </tr>\n",
       "  </tbody>\n",
       "</table>\n",
       "</div>"
      ],
      "text/plain": [
       "            ID                                       Title  \\\n",
       "0  EONET_14198          HOPE Wildfire  Stevens  Washington   \n",
       "1  EONET_14200           Hot Canyon Wildfire  Elko  Nevada   \n",
       "2  EONET_14215  13 MILE FIRE Wildfire  Palm Beach  Florida   \n",
       "3  EONET_14209        UDC Fire Wildfire  Jefferson  Oregon   \n",
       "4  EONET_14199        0482 SUNRISE Wildfire  Crook  Oregon   \n",
       "\n",
       "                        Description Category_title  Geometry_Coordinates_1  \\\n",
       "0  15 Miles N from KETTLE FALLS  WA      Wildfires  -117.982361  48.821248   \n",
       "1     10 Miles NW from Montello  NV      Wildfires     -114.336333  41.368   \n",
       "2   21 Miles S from BELLE GLADE  FL      Wildfires      -80.79  26.3833333   \n",
       "3  1 Miles SW from warm springs  OR      Wildfires  -121.288889  44.803444   \n",
       "4        8 Miles S from Paulina  OR      Wildfires  -120.038167  44.019167   \n",
       "\n",
       "  Geometry_Coordinates_2 Geometry_Coordinates_3 Geometry_Coordinates_4  \\\n",
       "0                    NaN                    NaN                    NaN   \n",
       "1                    NaN                    NaN                    NaN   \n",
       "2                    NaN                    NaN                    NaN   \n",
       "3                    NaN                    NaN                    NaN   \n",
       "4                    NaN                    NaN                    NaN   \n",
       "\n",
       "         Date      Time  \n",
       "0  2025-07-08  16:38:00  \n",
       "1  2025-07-08  16:18:00  \n",
       "2  2025-07-08  15:34:00  \n",
       "3  2025-07-07  22:59:00  \n",
       "4  2025-07-07  14:45:00  "
      ]
     },
     "metadata": {},
     "output_type": "display_data"
    }
   ],
   "source": [
    "# Preview first 5 rows\n",
    "print(\"First 5 rows of the dataset:\")\n",
    "display(data.head())"
   ]
  },
  {
   "cell_type": "code",
   "execution_count": 4,
   "id": "89fda577",
   "metadata": {},
   "outputs": [
    {
     "name": "stdout",
     "output_type": "stream",
     "text": [
      "\n",
      "Dataset Information:\n",
      "<class 'pandas.core.frame.DataFrame'>\n",
      "RangeIndex: 5393 entries, 0 to 5392\n",
      "Data columns (total 10 columns):\n",
      " #   Column                  Non-Null Count  Dtype \n",
      "---  ------                  --------------  ----- \n",
      " 0   ID                      5393 non-null   object\n",
      " 1   Title                   5393 non-null   object\n",
      " 2   Description             634 non-null    object\n",
      " 3   Category_title          5393 non-null   object\n",
      " 4   Geometry_Coordinates_1  5393 non-null   object\n",
      " 5   Geometry_Coordinates_2  31 non-null     object\n",
      " 6   Geometry_Coordinates_3  30 non-null     object\n",
      " 7   Geometry_Coordinates_4  28 non-null     object\n",
      " 8   Date                    5393 non-null   object\n",
      " 9   Time                    5393 non-null   object\n",
      "dtypes: object(10)\n",
      "memory usage: 421.5+ KB\n"
     ]
    }
   ],
   "source": [
    "# Step 3a: Dataset Info\n",
    "print(\"\\nDataset Information:\")\n",
    "data.info()"
   ]
  },
  {
   "cell_type": "code",
   "execution_count": 5,
   "id": "5704b489",
   "metadata": {},
   "outputs": [
    {
     "name": "stdout",
     "output_type": "stream",
     "text": [
      "\n",
      "Summary Statistics:\n"
     ]
    },
    {
     "data": {
      "text/html": [
       "<div>\n",
       "<style scoped>\n",
       "    .dataframe tbody tr th:only-of-type {\n",
       "        vertical-align: middle;\n",
       "    }\n",
       "\n",
       "    .dataframe tbody tr th {\n",
       "        vertical-align: top;\n",
       "    }\n",
       "\n",
       "    .dataframe thead th {\n",
       "        text-align: right;\n",
       "    }\n",
       "</style>\n",
       "<table border=\"1\" class=\"dataframe\">\n",
       "  <thead>\n",
       "    <tr style=\"text-align: right;\">\n",
       "      <th></th>\n",
       "      <th>ID</th>\n",
       "      <th>Title</th>\n",
       "      <th>Description</th>\n",
       "      <th>Category_title</th>\n",
       "      <th>Geometry_Coordinates_1</th>\n",
       "      <th>Geometry_Coordinates_2</th>\n",
       "      <th>Geometry_Coordinates_3</th>\n",
       "      <th>Geometry_Coordinates_4</th>\n",
       "      <th>Date</th>\n",
       "      <th>Time</th>\n",
       "    </tr>\n",
       "  </thead>\n",
       "  <tbody>\n",
       "    <tr>\n",
       "      <th>count</th>\n",
       "      <td>5393</td>\n",
       "      <td>5393</td>\n",
       "      <td>634</td>\n",
       "      <td>5393</td>\n",
       "      <td>5393</td>\n",
       "      <td>31</td>\n",
       "      <td>30</td>\n",
       "      <td>28</td>\n",
       "      <td>5393</td>\n",
       "      <td>5393</td>\n",
       "    </tr>\n",
       "    <tr>\n",
       "      <th>unique</th>\n",
       "      <td>5393</td>\n",
       "      <td>5379</td>\n",
       "      <td>627</td>\n",
       "      <td>4</td>\n",
       "      <td>5359</td>\n",
       "      <td>31</td>\n",
       "      <td>30</td>\n",
       "      <td>28</td>\n",
       "      <td>475</td>\n",
       "      <td>807</td>\n",
       "    </tr>\n",
       "    <tr>\n",
       "      <th>top</th>\n",
       "      <td>EONET_980</td>\n",
       "      <td>pouch point Wildfire  Mountrail  North Dakota</td>\n",
       "      <td>null Miles null from null</td>\n",
       "      <td>Wildfires</td>\n",
       "      <td>-81.085317  25.94815</td>\n",
       "      <td>-78.7  31.9</td>\n",
       "      <td>-78.8  32.7</td>\n",
       "      <td>-79.1  33.6</td>\n",
       "      <td>2024-08-09</td>\n",
       "      <td>19:00:00</td>\n",
       "    </tr>\n",
       "    <tr>\n",
       "      <th>freq</th>\n",
       "      <td>1</td>\n",
       "      <td>3</td>\n",
       "      <td>5</td>\n",
       "      <td>5318</td>\n",
       "      <td>3</td>\n",
       "      <td>1</td>\n",
       "      <td>1</td>\n",
       "      <td>1</td>\n",
       "      <td>68</td>\n",
       "      <td>3856</td>\n",
       "    </tr>\n",
       "  </tbody>\n",
       "</table>\n",
       "</div>"
      ],
      "text/plain": [
       "               ID                                          Title  \\\n",
       "count        5393                                           5393   \n",
       "unique       5393                                           5379   \n",
       "top     EONET_980  pouch point Wildfire  Mountrail  North Dakota   \n",
       "freq            1                                              3   \n",
       "\n",
       "                        Description Category_title Geometry_Coordinates_1  \\\n",
       "count                           634           5393                   5393   \n",
       "unique                          627              4                   5359   \n",
       "top     null Miles null from null        Wildfires   -81.085317  25.94815   \n",
       "freq                              5           5318                      3   \n",
       "\n",
       "       Geometry_Coordinates_2 Geometry_Coordinates_3 Geometry_Coordinates_4  \\\n",
       "count                      31                     30                     28   \n",
       "unique                     31                     30                     28   \n",
       "top               -78.7  31.9            -78.8  32.7            -79.1  33.6   \n",
       "freq                        1                      1                      1   \n",
       "\n",
       "              Date      Time  \n",
       "count         5393      5393  \n",
       "unique         475       807  \n",
       "top     2024-08-09  19:00:00  \n",
       "freq            68      3856  "
      ]
     },
     "metadata": {},
     "output_type": "display_data"
    }
   ],
   "source": [
    "# Step 3b: Descriptive Statistics\n",
    "print(\"\\nSummary Statistics:\")\n",
    "display(data.describe())"
   ]
  },
  {
   "cell_type": "code",
   "execution_count": 6,
   "id": "12da9d56",
   "metadata": {},
   "outputs": [
    {
     "name": "stdout",
     "output_type": "stream",
     "text": [
      "\n",
      "Missing Values in Each Column:\n",
      "ID                           0\n",
      "Title                        0\n",
      "Description               4759\n",
      "Category_title               0\n",
      "Geometry_Coordinates_1       0\n",
      "Geometry_Coordinates_2    5362\n",
      "Geometry_Coordinates_3    5363\n",
      "Geometry_Coordinates_4    5365\n",
      "Date                         0\n",
      "Time                         0\n",
      "dtype: int64\n"
     ]
    }
   ],
   "source": [
    "# Step 3c: Missing Values\n",
    "print(\"\\nMissing Values in Each Column:\")\n",
    "print(data.isnull().sum())"
   ]
  },
  {
   "cell_type": "code",
   "execution_count": 7,
   "id": "08896ab6",
   "metadata": {},
   "outputs": [
    {
     "name": "stdout",
     "output_type": "stream",
     "text": [
      "\n",
      "Unique Disaster Categories:\n",
      "['Wildfires' 'Severe Storms' 'Volcanoes' 'Sea and Lake Ice']\n"
     ]
    }
   ],
   "source": [
    "# Step 4: Explore Categories\n",
    "print(\"\\nUnique Disaster Categories:\")\n",
    "print(data['Category_title'].unique())"
   ]
  },
  {
   "cell_type": "code",
   "execution_count": 8,
   "id": "fd049a1e",
   "metadata": {},
   "outputs": [
    {
     "name": "stdout",
     "output_type": "stream",
     "text": [
      "\n",
      "Number of Events per Disaster Category:\n",
      "Category_title\n",
      "Wildfires           5318\n",
      "Sea and Lake Ice      40\n",
      "Volcanoes             32\n",
      "Severe Storms          3\n",
      "Name: count, dtype: int64\n"
     ]
    }
   ],
   "source": [
    "print(\"\\nNumber of Events per Disaster Category:\")\n",
    "print(data['Category_title'].value_counts())"
   ]
  }
 ],
 "metadata": {
  "kernelspec": {
   "display_name": "Python 3",
   "language": "python",
   "name": "python3"
  },
  "language_info": {
   "codemirror_mode": {
    "name": "ipython",
    "version": 3
   },
   "file_extension": ".py",
   "mimetype": "text/x-python",
   "name": "python",
   "nbconvert_exporter": "python",
   "pygments_lexer": "ipython3",
   "version": "3.12.3"
  }
 },
 "nbformat": 4,
 "nbformat_minor": 5
}
