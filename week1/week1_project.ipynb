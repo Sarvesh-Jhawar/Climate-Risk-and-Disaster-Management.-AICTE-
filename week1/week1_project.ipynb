{
 "cells": [
  {
   "cell_type": "code",
   "execution_count": 1,
   "id": "b4863e2d",
   "metadata": {},
   "outputs": [],
   "source": [
    "\n",
    "# Step 1: Import Libraries\n",
    "import pandas as pd\n",
    "import numpy as np"
   ]
  },
  {
   "cell_type": "code",
   "execution_count": 2,
   "id": "0eb7b739",
   "metadata": {},
   "outputs": [],
   "source": [
    "# Step 2: Load Dataset\n",
    "# Make sure Data.csv is in the same folder as this notebook\n",
    "data = pd.read_csv(\"Data.csv\")"
   ]
  },
  {
   "cell_type": "code",
   "execution_count": 3,
   "id": "3e4de113",
   "metadata": {},
   "outputs": [
    {
     "name": "stdout",
     "output_type": "stream",
     "text": [
      "First 5 rows of the dataset:\n"
     ]
    },
    {
     "data": {
      "text/html": [
       "<div>\n",
       "<style scoped>\n",
       "    .dataframe tbody tr th:only-of-type {\n",
       "        vertical-align: middle;\n",
       "    }\n",
       "\n",
       "    .dataframe tbody tr th {\n",
       "        vertical-align: top;\n",
       "    }\n",
       "\n",
       "    .dataframe thead th {\n",
       "        text-align: right;\n",
       "    }\n",
       "</style>\n",
       "<table border=\"1\" class=\"dataframe\">\n",
       "  <thead>\n",
       "    <tr style=\"text-align: right;\">\n",
       "      <th></th>\n",
       "      <th>ID</th>\n",
       "      <th>Title</th>\n",
       "      <th>Description</th>\n",
       "      <th>Category_title</th>\n",
       "      <th>Geometry_Coordinates_1</th>\n",
       "      <th>Geometry_Coordinates_2</th>\n",
       "      <th>Geometry_Coordinates_3</th>\n",
       "      <th>Geometry_Coordinates_4</th>\n",
       "      <th>Date</th>\n",
       "      <th>Time</th>\n",
       "    </tr>\n",
       "  </thead>\n",
       "  <tbody>\n",
       "    <tr>\n",
       "      <th>0</th>\n",
       "      <td>EONET_14198</td>\n",
       "      <td>HOPE Wildfire  Stevens  Washington</td>\n",
       "      <td>15 Miles N from KETTLE FALLS  WA</td>\n",
       "      <td>Wildfires</td>\n",
       "      <td>-117.982361  48.821248</td>\n",
       "      <td>NaN</td>\n",
       "      <td>NaN</td>\n",
       "      <td>NaN</td>\n",
       "      <td>2025-07-08</td>\n",
       "      <td>16:38:00</td>\n",
       "    </tr>\n",
       "    <tr>\n",
       "      <th>1</th>\n",
       "      <td>EONET_14200</td>\n",
       "      <td>Hot Canyon Wildfire  Elko  Nevada</td>\n",
       "      <td>10 Miles NW from Montello  NV</td>\n",
       "      <td>Wildfires</td>\n",
       "      <td>-114.336333  41.368</td>\n",
       "      <td>NaN</td>\n",
       "      <td>NaN</td>\n",
       "      <td>NaN</td>\n",
       "      <td>2025-07-08</td>\n",
       "      <td>16:18:00</td>\n",
       "    </tr>\n",
       "    <tr>\n",
       "      <th>2</th>\n",
       "      <td>EONET_14215</td>\n",
       "      <td>13 MILE FIRE Wildfire  Palm Beach  Florida</td>\n",
       "      <td>21 Miles S from BELLE GLADE  FL</td>\n",
       "      <td>Wildfires</td>\n",
       "      <td>-80.79  26.3833333</td>\n",
       "      <td>NaN</td>\n",
       "      <td>NaN</td>\n",
       "      <td>NaN</td>\n",
       "      <td>2025-07-08</td>\n",
       "      <td>15:34:00</td>\n",
       "    </tr>\n",
       "    <tr>\n",
       "      <th>3</th>\n",
       "      <td>EONET_14209</td>\n",
       "      <td>UDC Fire Wildfire  Jefferson  Oregon</td>\n",
       "      <td>1 Miles SW from warm springs  OR</td>\n",
       "      <td>Wildfires</td>\n",
       "      <td>-121.288889  44.803444</td>\n",
       "      <td>NaN</td>\n",
       "      <td>NaN</td>\n",
       "      <td>NaN</td>\n",
       "      <td>2025-07-07</td>\n",
       "      <td>22:59:00</td>\n",
       "    </tr>\n",
       "    <tr>\n",
       "      <th>4</th>\n",
       "      <td>EONET_14199</td>\n",
       "      <td>0482 SUNRISE Wildfire  Crook  Oregon</td>\n",
       "      <td>8 Miles S from Paulina  OR</td>\n",
       "      <td>Wildfires</td>\n",
       "      <td>-120.038167  44.019167</td>\n",
       "      <td>NaN</td>\n",
       "      <td>NaN</td>\n",
       "      <td>NaN</td>\n",
       "      <td>2025-07-07</td>\n",
       "      <td>14:45:00</td>\n",
       "    </tr>\n",
       "  </tbody>\n",
       "</table>\n",
       "</div>"
      ],
      "text/plain": [
       "            ID                                       Title  \\\n",
       "0  EONET_14198          HOPE Wildfire  Stevens  Washington   \n",
       "1  EONET_14200           Hot Canyon Wildfire  Elko  Nevada   \n",
       "2  EONET_14215  13 MILE FIRE Wildfire  Palm Beach  Florida   \n",
       "3  EONET_14209        UDC Fire Wildfire  Jefferson  Oregon   \n",
       "4  EONET_14199        0482 SUNRISE Wildfire  Crook  Oregon   \n",
       "\n",
       "                        Description Category_title  Geometry_Coordinates_1  \\\n",
       "0  15 Miles N from KETTLE FALLS  WA      Wildfires  -117.982361  48.821248   \n",
       "1     10 Miles NW from Montello  NV      Wildfires     -114.336333  41.368   \n",
       "2   21 Miles S from BELLE GLADE  FL      Wildfires      -80.79  26.3833333   \n",
       "3  1 Miles SW from warm springs  OR      Wildfires  -121.288889  44.803444   \n",
       "4        8 Miles S from Paulina  OR      Wildfires  -120.038167  44.019167   \n",
       "\n",
       "  Geometry_Coordinates_2 Geometry_Coordinates_3 Geometry_Coordinates_4  \\\n",
       "0                    NaN                    NaN                    NaN   \n",
       "1                    NaN                    NaN                    NaN   \n",
       "2                    NaN                    NaN                    NaN   \n",
       "3                    NaN                    NaN                    NaN   \n",
       "4                    NaN                    NaN                    NaN   \n",
       "\n",
       "         Date      Time  \n",
       "0  2025-07-08  16:38:00  \n",
       "1  2025-07-08  16:18:00  \n",
       "2  2025-07-08  15:34:00  \n",
       "3  2025-07-07  22:59:00  \n",
       "4  2025-07-07  14:45:00  "
      ]
     },
     "metadata": {},
     "output_type": "display_data"
    }
   ],
   "source": [
    "# Preview first 5 rows\n",
    "print(\"First 5 rows of the dataset:\")\n",
    "display(data.head())"
   ]
  },
  {
   "cell_type": "code",
   "execution_count": 4,
   "id": "89fda577",
   "metadata": {},
   "outputs": [
    {
     "name": "stdout",
     "output_type": "stream",
     "text": [
      "\n",
      "Dataset Information:\n",
      "<class 'pandas.core.frame.DataFrame'>\n",
      "RangeIndex: 5393 entries, 0 to 5392\n",
      "Data columns (total 10 columns):\n",
      " #   Column                  Non-Null Count  Dtype \n",
      "---  ------                  --------------  ----- \n",
      " 0   ID                      5393 non-null   object\n",
      " 1   Title                   5393 non-null   object\n",
      " 2   Description             634 non-null    object\n",
      " 3   Category_title          5393 non-null   object\n",
      " 4   Geometry_Coordinates_1  5393 non-null   object\n",
      " 5   Geometry_Coordinates_2  31 non-null     object\n",
      " 6   Geometry_Coordinates_3  30 non-null     object\n",
      " 7   Geometry_Coordinates_4  28 non-null     object\n",
      " 8   Date                    5393 non-null   object\n",
      " 9   Time                    5393 non-null   object\n",
      "dtypes: object(10)\n",
      "memory usage: 421.5+ KB\n"
     ]
    }
   ],
   "source": [
    "# Step 3a: Dataset Info\n",
    "print(\"\\nDataset Information:\")\n",
    "data.info()"
   ]
  },
  {
   "cell_type": "code",
   "execution_count": 5,
   "id": "5704b489",
   "metadata": {},
   "outputs": [
    {
     "name": "stdout",
     "output_type": "stream",
     "text": [
      "\n",
      "Summary Statistics:\n"
     ]
    },
    {
     "data": {
      "text/html": [
       "<div>\n",
       "<style scoped>\n",
       "    .dataframe tbody tr th:only-of-type {\n",
       "        vertical-align: middle;\n",
       "    }\n",
       "\n",
       "    .dataframe tbody tr th {\n",
       "        vertical-align: top;\n",
       "    }\n",
       "\n",
       "    .dataframe thead th {\n",
       "        text-align: right;\n",
       "    }\n",
       "</style>\n",
       "<table border=\"1\" class=\"dataframe\">\n",
       "  <thead>\n",
       "    <tr style=\"text-align: right;\">\n",
       "      <th></th>\n",
       "      <th>ID</th>\n",
       "      <th>Title</th>\n",
       "      <th>Description</th>\n",
       "      <th>Category_title</th>\n",
       "      <th>Geometry_Coordinates_1</th>\n",
       "      <th>Geometry_Coordinates_2</th>\n",
       "      <th>Geometry_Coordinates_3</th>\n",
       "      <th>Geometry_Coordinates_4</th>\n",
       "      <th>Date</th>\n",
       "      <th>Time</th>\n",
       "    </tr>\n",
       "  </thead>\n",
       "  <tbody>\n",
       "    <tr>\n",
       "      <th>count</th>\n",
       "      <td>5393</td>\n",
       "      <td>5393</td>\n",
       "      <td>634</td>\n",
       "      <td>5393</td>\n",
       "      <td>5393</td>\n",
       "      <td>31</td>\n",
       "      <td>30</td>\n",
       "      <td>28</td>\n",
       "      <td>5393</td>\n",
       "      <td>5393</td>\n",
       "    </tr>\n",
       "    <tr>\n",
       "      <th>unique</th>\n",
       "      <td>5393</td>\n",
       "      <td>5379</td>\n",
       "      <td>627</td>\n",
       "      <td>4</td>\n",
       "      <td>5359</td>\n",
       "      <td>31</td>\n",
       "      <td>30</td>\n",
       "      <td>28</td>\n",
       "      <td>475</td>\n",
       "      <td>807</td>\n",
       "    </tr>\n",
       "    <tr>\n",
       "      <th>top</th>\n",
       "      <td>EONET_980</td>\n",
       "      <td>pouch point Wildfire  Mountrail  North Dakota</td>\n",
       "      <td>null Miles null from null</td>\n",
       "      <td>Wildfires</td>\n",
       "      <td>-81.085317  25.94815</td>\n",
       "      <td>-78.7  31.9</td>\n",
       "      <td>-78.8  32.7</td>\n",
       "      <td>-79.1  33.6</td>\n",
       "      <td>2024-08-09</td>\n",
       "      <td>19:00:00</td>\n",
       "    </tr>\n",
       "    <tr>\n",
       "      <th>freq</th>\n",
       "      <td>1</td>\n",
       "      <td>3</td>\n",
       "      <td>5</td>\n",
       "      <td>5318</td>\n",
       "      <td>3</td>\n",
       "      <td>1</td>\n",
       "      <td>1</td>\n",
       "      <td>1</td>\n",
       "      <td>68</td>\n",
       "      <td>3856</td>\n",
       "    </tr>\n",
       "  </tbody>\n",
       "</table>\n",
       "</div>"
      ],
      "text/plain": [
       "               ID                                          Title  \\\n",
       "count        5393                                           5393   \n",
       "unique       5393                                           5379   \n",
       "top     EONET_980  pouch point Wildfire  Mountrail  North Dakota   \n",
       "freq            1                                              3   \n",
       "\n",
       "                        Description Category_title Geometry_Coordinates_1  \\\n",
       "count                           634           5393                   5393   \n",
       "unique                          627              4                   5359   \n",
       "top     null Miles null from null        Wildfires   -81.085317  25.94815   \n",
       "freq                              5           5318                      3   \n",
       "\n",
       "       Geometry_Coordinates_2 Geometry_Coordinates_3 Geometry_Coordinates_4  \\\n",
       "count                      31                     30                     28   \n",
       "unique                     31                     30                     28   \n",
       "top               -78.7  31.9            -78.8  32.7            -79.1  33.6   \n",
       "freq                        1                      1                      1   \n",
       "\n",
       "              Date      Time  \n",
       "count         5393      5393  \n",
       "unique         475       807  \n",
       "top     2024-08-09  19:00:00  \n",
       "freq            68      3856  "
      ]
     },
     "metadata": {},
     "output_type": "display_data"
    }
   ],
   "source": [
    "# Step 3b: Descriptive Statistics\n",
    "print(\"\\nSummary Statistics:\")\n",
    "display(data.describe())"
   ]
  },
  {
   "cell_type": "code",
   "execution_count": 6,
   "id": "12da9d56",
   "metadata": {},
   "outputs": [
    {
     "name": "stdout",
     "output_type": "stream",
     "text": [
      "\n",
      "Missing Values in Each Column:\n",
      "ID                           0\n",
      "Title                        0\n",
      "Description               4759\n",
      "Category_title               0\n",
      "Geometry_Coordinates_1       0\n",
      "Geometry_Coordinates_2    5362\n",
      "Geometry_Coordinates_3    5363\n",
      "Geometry_Coordinates_4    5365\n",
      "Date                         0\n",
      "Time                         0\n",
      "dtype: int64\n"
     ]
    }
   ],
   "source": [
    "# Step 3c: Missing Values\n",
    "print(\"\\nMissing Values in Each Column:\")\n",
    "print(data.isnull().sum())"
   ]
  },
  {
   "cell_type": "code",
   "execution_count": 7,
   "id": "08896ab6",
   "metadata": {},
   "outputs": [
    {
     "name": "stdout",
     "output_type": "stream",
     "text": [
      "\n",
      "Unique Disaster Categories:\n",
      "['Wildfires' 'Severe Storms' 'Volcanoes' 'Sea and Lake Ice']\n"
     ]
    }
   ],
   "source": [
    "# Step 4: Explore Categories\n",
    "print(\"\\nUnique Disaster Categories:\")\n",
    "print(data['Category_title'].unique())"
   ]
  },
  {
   "cell_type": "code",
   "execution_count": 8,
   "id": "fd049a1e",
   "metadata": {},
   "outputs": [
    {
     "name": "stdout",
     "output_type": "stream",
     "text": [
      "\n",
      "Number of Events per Disaster Category:\n",
      "Category_title\n",
      "Wildfires           5318\n",
      "Sea and Lake Ice      40\n",
      "Volcanoes             32\n",
      "Severe Storms          3\n",
      "Name: count, dtype: int64\n"
     ]
    }
   ],
   "source": [
    "print(\"\\nNumber of Events per Disaster Category:\")\n",
    "print(data['Category_title'].value_counts())"
   ]
  },
  {
   "cell_type": "markdown",
   "id": "1449fb85",
   "metadata": {},
   "source": [
    "WEEK 2 PROJECT: EDA, Data Transformation, and Feature Selection"
   ]
  },
  {
   "cell_type": "code",
   "execution_count": 2,
   "id": "2a169a03",
   "metadata": {},
   "outputs": [
    {
     "name": "stdout",
     "output_type": "stream",
     "text": [
      "--- Starting Exploratory Data Analysis (EDA) ---\n"
     ]
    }
   ],
   "source": [
    "# Step 1: Import additional libraries for visualization and analysis\n",
    "import matplotlib.pyplot as plt\n",
    "import seaborn as sns\n",
    "import pandas as pd\n",
    "import numpy as np\n",
    "\n",
    "# Load the dataset (assuming Data.csv is in the same directory)\n",
    "data = pd.read_csv(\"Data.csv\")\n",
    "\n",
    "# --- Exploratory Data Analysis (EDA) ---\n",
    "print(\"--- Starting Exploratory Data Analysis (EDA) ---\")"
   ]
  },
  {
   "cell_type": "code",
   "execution_count": 3,
   "id": "d0220a0f",
   "metadata": {},
   "outputs": [
    {
     "data": {
      "image/png": "[encoded data removed]",
      "text/plain": [
       "<Figure size 1000x600 with 1 Axes>"
      ]
     },
     "metadata": {},
     "output_type": "display_data"
    }
   ],
   "source": [
    "# Visualize the distribution of disaster categories\n",
    "plt.figure(figsize=(10, 6))\n",
    "sns.countplot(y='Category_title', data=data, order=data['Category_title'].value_counts().index)\n",
    "plt.title('Number of Events per Disaster Category')\n",
    "plt.xlabel('Number of Events')\n",
    "plt.ylabel('Disaster Category')\n",
    "plt.show()"
   ]
  },
  {
   "cell_type": "code",
   "execution_count": 4,
   "id": "a066490d",
   "metadata": {},
   "outputs": [
    {
     "name": "stderr",
     "output_type": "stream",
     "text": [
      "C:\\Users\\sarve\\AppData\\Local\\Temp\\ipykernel_23392\\1345163807.py:7: FutureWarning: 'M' is deprecated and will be removed in a future version, please use 'ME' instead.\n",
      "  data.resample('M')['ID'].count().plot()\n"
     ]
    },
    {
     "data": {
      "image/png": "[encoded data removed]",
      "text/plain": [
       "<Figure size 1500x700 with 1 Axes>"
      ]
     },
     "metadata": {},
     "output_type": "display_data"
    }
   ],
   "source": [
    "# Combine 'Date' and 'Time' columns into a single datetime object\n",
    "data['Datetime'] = pd.to_datetime(data['Date'] + ' ' + data['Time'])\n",
    "data.set_index('Datetime', inplace=True)\n",
    "\n",
    "# Plot event frequency over time\n",
    "plt.figure(figsize=(15, 7))\n",
    "data.resample('M')['ID'].count().plot()\n",
    "plt.title('Number of Disasters Over Time')\n",
    "plt.xlabel('Date')\n",
    "plt.ylabel('Number of Events')\n",
    "plt.show()"
   ]
  },
  {
   "cell_type": "markdown",
   "id": "f856a5f9",
   "metadata": {},
   "source": [
    "Data Transformation\n",
    "Now, we'll transform our raw data into a clean and structured format. We'll handle missing values and convert our coordinates into a more usable format."
   ]
  },
  {
   "cell_type": "code",
   "execution_count": 8,
   "id": "4958b527",
   "metadata": {},
   "outputs": [
    {
     "name": "stdout",
     "output_type": "stream",
     "text": [
      "\n",
      "--- Starting Data Transformation ---\n",
      "Number of missing values in 'Description' after filling:\n",
      "0\n",
      "\n",
      "Sample of split coordinates:\n",
      "                     Geometry_Coordinates_1   Longitude   Latitude\n",
      "Datetime                                                          \n",
      "2025-07-08 16:38:00  -117.982361  48.821248 -117.982361  48.821248\n",
      "2025-07-08 16:18:00     -114.336333  41.368 -114.336333  41.368000\n",
      "2025-07-08 15:34:00      -80.79  26.3833333  -80.790000  26.383333\n",
      "2025-07-07 22:59:00  -121.288889  44.803444 -121.288889  44.803444\n",
      "2025-07-07 14:45:00  -120.038167  44.019167 -120.038167  44.019167\n",
      "\n",
      "--- Data Transformation Completed ---\n",
      "                              ID                   Title  \\\n",
      "Datetime                                                   \n",
      "2025-07-05 15:00:00  EONET_14180  Tropical Storm Chantal   \n",
      "2025-07-04 12:00:00  EONET_14174           Typhoon Danas   \n",
      "2025-07-02 06:00:00  EONET_14153      Tropical Storm Mun   \n",
      "2025-04-24 00:00:00  EONET_13367            Iceberg A23C   \n",
      "2025-02-21 00:00:00  EONET_12716             Iceberg A85   \n",
      "\n",
      "                                 Description    Category_title  \\\n",
      "Datetime                                                         \n",
      "2025-07-05 15:00:00  No description provided     Severe Storms   \n",
      "2025-07-04 12:00:00  No description provided     Severe Storms   \n",
      "2025-07-02 06:00:00  No description provided     Severe Storms   \n",
      "2025-04-24 00:00:00  No description provided  Sea and Lake Ice   \n",
      "2025-02-21 00:00:00  No description provided  Sea and Lake Ice   \n",
      "\n",
      "                    Geometry_Coordinates_1 Geometry_Coordinates_2  \\\n",
      "Datetime                                                            \n",
      "2025-07-05 15:00:00            -78.7  31.1            -78.7  31.9   \n",
      "2025-07-04 12:00:00            117.8  20.1              117.6  20   \n",
      "2025-07-02 06:00:00            146.8  25.7            146.3  26.2   \n",
      "2025-04-24 00:00:00         -36.83  -56.25         -34.16  -56.76   \n",
      "2025-02-21 00:00:00         -48.54  -77.51          -49.4  -76.96   \n",
      "\n",
      "                    Geometry_Coordinates_3 Geometry_Coordinates_4        Date  \\\n",
      "Datetime                                                                        \n",
      "2025-07-05 15:00:00            -78.8  32.7            -79.1  33.6  2025-07-05   \n",
      "2025-07-04 12:00:00            117.7  20.3            117.9  20.5  2025-07-04   \n",
      "2025-07-02 06:00:00            145.6  26.7              145.4  27  2025-07-02   \n",
      "2025-04-24 00:00:00          -34.77  -55.8          -34.3  -54.27  2025-04-24   \n",
      "2025-02-21 00:00:00         -51.03  -76.66         -53.15  -76.16  2025-02-21   \n",
      "\n",
      "                         Time  Longitude  Latitude  Month  DayOfWeek  \n",
      "Datetime                                                              \n",
      "2025-07-05 15:00:00  15:00:00     -78.70     31.10      7          5  \n",
      "2025-07-04 12:00:00  12:00:00     117.80     20.10      7          4  \n",
      "2025-07-02 06:00:00  06:00:00     146.80     25.70      7          2  \n",
      "2025-04-24 00:00:00  00:00:00     -36.83    -56.25      4          3  \n",
      "2025-02-21 00:00:00  00:00:00     -48.54    -77.51      2          4  \n"
     ]
    }
   ],
   "source": [
    "# 1. Handle missing values in 'Description' by filling them with a placeholder\n",
    "data['Description'] = data['Description'].fillna('No description provided')\n",
    "print(\"\\n--- Starting Data Transformation ---\")\n",
    "print(\"Number of missing values in 'Description' after filling:\")\n",
    "print(data['Description'].isnull().sum())\n",
    "\n",
    "# 2. Split the 'Geometry_Coordinates_1' column into 'Longitude' and 'Latitude'\n",
    "# Use regex '\\s+' to handle any type of whitespace (normal space, multiple spaces, non-breaking space)\n",
    "coordinates = data['Geometry_Coordinates_1'].str.split(r'\\s+', expand=True)\n",
    "\n",
    "# Convert the split values to numeric safely\n",
    "data['Longitude'] = pd.to_numeric(coordinates[0], errors='coerce')\n",
    "data['Latitude'] = pd.to_numeric(coordinates[1], errors='coerce')\n",
    "\n",
    "print(\"\\nSample of split coordinates:\")\n",
    "print(data[['Geometry_Coordinates_1', 'Longitude', 'Latitude']].head())\n",
    "\n",
    "# 3. Create new features from the 'Datetime' index\n",
    "data['Month'] = data.index.month\n",
    "data['DayOfWeek'] = data.index.dayofweek\n",
    "\n",
    "# 4. Drop rows with missing multi-point coordinates (2, 3, 4)\n",
    "# These correspond to complex storms and are a small portion of the data\n",
    "data.dropna(subset=['Geometry_Coordinates_2', \n",
    "                    'Geometry_Coordinates_3', \n",
    "                    'Geometry_Coordinates_4'], inplace=True)\n",
    "\n",
    "print(\"\\n--- Data Transformation Completed ---\")\n",
    "print(data.head())"
   ]
  },
  {
   "cell_type": "markdown",
   "id": "c5836cf2",
   "metadata": {},
   "source": [
    "Feature Selection\n",
    "Finally, we'll select the most important features and drop the original columns that are now redundant. The resulting DataFrame will be ready for further analysis in Week 3."
   ]
  },
  {
   "cell_type": "code",
   "execution_count": 6,
   "id": "0e63abd3",
   "metadata": {},
   "outputs": [
    {
     "name": "stdout",
     "output_type": "stream",
     "text": [
      "\n",
      "--- Starting Feature Selection ---\n",
      "Processed data with selected features:\n",
      "                    Category_title\n",
      "Datetime                          \n",
      "2025-07-08 16:38:00      Wildfires\n",
      "2025-07-08 16:18:00      Wildfires\n",
      "2025-07-08 15:34:00      Wildfires\n",
      "2025-07-07 22:59:00      Wildfires\n",
      "2025-07-07 14:45:00      Wildfires\n",
      "\n",
      "Final list of columns for Week 3:\n",
      "Index(['Category_title'], dtype='object')\n",
      "\n",
      "Processed data saved to 'processed_data.csv'\n"
     ]
    }
   ],
   "source": [
    "# Drop unnecessary columns that are not useful for modeling\n",
    "features_to_drop = [\n",
    "    'ID', 'Title', 'Description', 'Date', 'Time', \n",
    "    'Geometry_Coordinates_1', 'Geometry_Coordinates_2', \n",
    "    'Geometry_Coordinates_3', 'Geometry_Coordinates_4'\n",
    "]\n",
    "data_processed = data.drop(columns=features_to_drop)\n",
    "\n",
    "# Display the final processed DataFrame and its columns\n",
    "print(\"\\n--- Starting Feature Selection ---\")\n",
    "print(\"Processed data with selected features:\")\n",
    "print(data_processed.head())\n",
    "print(\"\\nFinal list of columns for Week 3:\")\n",
    "print(data_processed.columns)\n",
    "\n",
    "# Save the processed data for use in the next phase\n",
    "data_processed.to_csv(\"processed_data.csv\")\n",
    "print(\"\\nProcessed data saved to 'processed_data.csv'\")"
   ]
  }
 ],
 "metadata": {
  "kernelspec": {
   "display_name": "Python 3",
   "language": "python",
   "name": "python3"
  },
  "language_info": {
   "codemirror_mode": {
    "name": "ipython",
    "version": 3
   },
   "file_extension": ".py",
   "mimetype": "text/x-python",
   "name": "python",
   "nbconvert_exporter": "python",
   "pygments_lexer": "ipython3",
   "version": "3.12.3"
  }
 },
 "nbformat": 4,
 "nbformat_minor": 5
}
